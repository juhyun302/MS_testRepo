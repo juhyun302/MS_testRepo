{
 "cells": [
  {
   "cell_type": "markdown",
   "id": "9dcfc050",
   "metadata": {},
   "source": [
    "## 2025-09-18"
   ]
  },
  {
   "cell_type": "code",
   "execution_count": 3,
   "id": "17aedbf8",
   "metadata": {},
   "outputs": [
    {
     "name": "stdout",
     "output_type": "stream",
     "text": [
      "Hello VS Code\n"
     ]
    }
   ],
   "source": [
    "print(\"Hello VS Code\")"
   ]
  },
  {
   "cell_type": "code",
   "execution_count": 5,
   "id": "ec8c7590",
   "metadata": {},
   "outputs": [
    {
     "name": "stdout",
     "output_type": "stream",
     "text": [
      "뽀야미뽀야미뽀야미뽀야미뽀야미\n"
     ]
    }
   ],
   "source": [
    "print(\"뽀야미\"*5)"
   ]
  },
  {
   "cell_type": "code",
   "execution_count": null,
   "id": "a1a3ebdd",
   "metadata": {},
   "outputs": [],
   "source": []
  }
 ],
 "metadata": {
  "kernelspec": {
   "display_name": "Python 3",
   "language": "python",
   "name": "python3"
  },
  "language_info": {
   "codemirror_mode": {
    "name": "ipython",
    "version": 3
   },
   "file_extension": ".py",
   "mimetype": "text/x-python",
   "name": "python",
   "nbconvert_exporter": "python",
   "pygments_lexer": "ipython3",
   "version": "3.11.8"
  }
 },
 "nbformat": 4,
 "nbformat_minor": 5
}
