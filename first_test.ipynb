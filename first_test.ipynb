{
 "cells": [
  {
   "cell_type": "code",
   "execution_count": 1,
   "id": "e2c3432c",
   "metadata": {},
   "outputs": [
    {
     "name": "stdout",
     "output_type": "stream",
     "text": [
      "Hello World\n"
     ]
    }
   ],
   "source": [
    "print(\"Hello World\")"
   ]
  },
  {
   "cell_type": "code",
   "execution_count": 2,
   "id": "2e162ad8",
   "metadata": {},
   "outputs": [
    {
     "name": "stdout",
     "output_type": "stream",
     "text": [
      "피자를 먹을까 치킨을 먹을까?\n"
     ]
    }
   ],
   "source": [
    "print(\"피자를 먹을까 치킨을 먹을까?\")"
   ]
  },
  {
   "cell_type": "code",
   "execution_count": null,
   "id": "f832cf7c",
   "metadata": {},
   "outputs": [],
   "source": []
  },
  {
   "cell_type": "markdown",
   "id": "7a6fe7db",
   "metadata": {},
   "source": [
    "## 2025-09-18"
   ]
  },
  {
   "cell_type": "markdown",
   "id": "adcfbdff",
   "metadata": {},
   "source": [
    "### 나의 처음 코딩"
   ]
  },
  {
   "cell_type": "markdown",
   "id": "366652db",
   "metadata": {},
   "source": []
  }
 ],
 "metadata": {
  "kernelspec": {
   "display_name": "Python 3",
   "language": "python",
   "name": "python3"
  },
  "language_info": {
   "codemirror_mode": {
    "name": "ipython",
    "version": 3
   },
   "file_extension": ".py",
   "mimetype": "text/x-python",
   "name": "python",
   "nbconvert_exporter": "python",
   "pygments_lexer": "ipython3",
   "version": "3.12.1"
  }
 },
 "nbformat": 4,
 "nbformat_minor": 5
}
